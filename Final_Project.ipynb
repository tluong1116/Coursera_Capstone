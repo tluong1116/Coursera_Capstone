{
 "cells": [
  {
   "cell_type": "markdown",
   "metadata": {},
   "source": [
    "# Battle of the Neighborhoods: - Atlanta Venues vs Crime"
   ]
  },
  {
   "cell_type": "markdown",
   "metadata": {},
   "source": [
    "## Introduction\n",
    "\n",
    "For the last couple of labs and home work sessions in the class, we have had chance to analyze New York City, San Francisco, and Toronto data. I am working with my sister to finalize her move to Atlanta, US. And during her move to the US, we are mainly interested in find a nice and safe neighborhood for her to stay at.\n",
    "\n",
    "Thus, in this project, we will analyze venues and crime data  Atlanta. We will try to see if we can find any correlation between the types of venues in a neighborhood and the number of crimes or types of crimes in that neighborhood. Another question we will try to answer would be if clusters of neighborhoods with similar venue types will have similar quantity and/or type of crime. We may also look in to venue ratings once clusters are made to explore whether a lower average rating of venues has any correlation to crime.\n",
    "\n",
    "The use of this analysis can be expand to anyone who is interested in the relation between venue types and crime of a location. Possible user for the analysis can be the police department, business/venue owners, or policy maker. "
   ]
  },
  {
   "cell_type": "markdown",
   "metadata": {},
   "source": [
    "## Data Description"
   ]
  },
  {
   "cell_type": "markdown",
   "metadata": {},
   "source": [
    "#### Foursquare API \n",
    "\n",
    "Like in other labs, we will use Foursquare API to get venue information.\n",
    "\n",
    "#### Neighbor Planning Units\n",
    "\n",
    "We will use Wikipedia to get data for Neighborhood Planning Units (NPUs). NPUs are neighborhood-scale governmental structure used in the city of Atlanta. There are 25 NPUs in Atlant, lettered from A-Z (except U). This data will be used to determind the coordinate for each neighborhood in Atlanta.\n",
    "\n",
    "The data can be accessed from:\n",
    "https://en.wikipedia.org/wiki/Neighborhood_planning_unit\n",
    "\n",
    "#### Atalanta Crime Data\n",
    "\n",
    "The Atlanta PD provides listing of all type of crimes by NPU and Neighborhood, along with its coordinate. The coordinate will be used to merge with Foursquare API data to determine the nearby venues associated with a crime. The data provided by Atlanta PD spans from 2009 to 2020. For simplicity and completeness of data, we will only use data for full year 2019.\n",
    "\n",
    "The data can be downloaded from: https://www.atlantapd.org/i-want-to/crime-data-downloads"
   ]
  },
  {
   "cell_type": "code",
   "execution_count": null,
   "metadata": {},
   "outputs": [],
   "source": []
  }
 ],
 "metadata": {
  "kernelspec": {
   "display_name": "Python 3",
   "language": "python",
   "name": "python3"
  },
  "language_info": {
   "codemirror_mode": {
    "name": "ipython",
    "version": 3
   },
   "file_extension": ".py",
   "mimetype": "text/x-python",
   "name": "python",
   "nbconvert_exporter": "python",
   "pygments_lexer": "ipython3",
   "version": "3.7.6"
  }
 },
 "nbformat": 4,
 "nbformat_minor": 4
}
